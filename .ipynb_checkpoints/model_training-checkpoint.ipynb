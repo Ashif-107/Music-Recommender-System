{
 "cells": [
  {
   "cell_type": "code",
   "execution_count": 87,
   "id": "e7871b6a-0fa1-40fc-a4b9-c5bb1ce7adae",
   "metadata": {},
   "outputs": [],
   "source": [
    "import pandas as pd"
   ]
  },
  {
   "cell_type": "code",
   "execution_count": 88,
   "id": "6d4cad83-394c-4fb4-a2a6-a368ad98b937",
   "metadata": {},
   "outputs": [],
   "source": [
    "df = pd.read_csv(\"./dataset/spotify_millsongdata.csv\")"
   ]
  },
  {
   "cell_type": "code",
   "execution_count": 89,
   "id": "23ecdca3-0e56-45ca-9efc-bd177c32e26d",
   "metadata": {},
   "outputs": [
    {
     "data": {
      "text/html": [
       "<div>\n",
       "<style scoped>\n",
       "    .dataframe tbody tr th:only-of-type {\n",
       "        vertical-align: middle;\n",
       "    }\n",
       "\n",
       "    .dataframe tbody tr th {\n",
       "        vertical-align: top;\n",
       "    }\n",
       "\n",
       "    .dataframe thead th {\n",
       "        text-align: right;\n",
       "    }\n",
       "</style>\n",
       "<table border=\"1\" class=\"dataframe\">\n",
       "  <thead>\n",
       "    <tr style=\"text-align: right;\">\n",
       "      <th></th>\n",
       "      <th>artist</th>\n",
       "      <th>song</th>\n",
       "      <th>link</th>\n",
       "      <th>text</th>\n",
       "    </tr>\n",
       "  </thead>\n",
       "  <tbody>\n",
       "    <tr>\n",
       "      <th>0</th>\n",
       "      <td>ABBA</td>\n",
       "      <td>Ahe's My Kind Of Girl</td>\n",
       "      <td>/a/abba/ahes+my+kind+of+girl_20598417.html</td>\n",
       "      <td>Look at her face, it's a wonderful face  \\r\\nA...</td>\n",
       "    </tr>\n",
       "    <tr>\n",
       "      <th>1</th>\n",
       "      <td>ABBA</td>\n",
       "      <td>Andante, Andante</td>\n",
       "      <td>/a/abba/andante+andante_20002708.html</td>\n",
       "      <td>Take it easy with me, please  \\r\\nTouch me gen...</td>\n",
       "    </tr>\n",
       "    <tr>\n",
       "      <th>2</th>\n",
       "      <td>ABBA</td>\n",
       "      <td>As Good As New</td>\n",
       "      <td>/a/abba/as+good+as+new_20003033.html</td>\n",
       "      <td>I'll never know why I had to go  \\r\\nWhy I had...</td>\n",
       "    </tr>\n",
       "    <tr>\n",
       "      <th>3</th>\n",
       "      <td>ABBA</td>\n",
       "      <td>Bang</td>\n",
       "      <td>/a/abba/bang_20598415.html</td>\n",
       "      <td>Making somebody happy is a question of give an...</td>\n",
       "    </tr>\n",
       "    <tr>\n",
       "      <th>4</th>\n",
       "      <td>ABBA</td>\n",
       "      <td>Bang-A-Boomerang</td>\n",
       "      <td>/a/abba/bang+a+boomerang_20002668.html</td>\n",
       "      <td>Making somebody happy is a question of give an...</td>\n",
       "    </tr>\n",
       "    <tr>\n",
       "      <th>5</th>\n",
       "      <td>ABBA</td>\n",
       "      <td>Burning My Bridges</td>\n",
       "      <td>/a/abba/burning+my+bridges_20003011.html</td>\n",
       "      <td>Well, you hoot and you holler and you make me ...</td>\n",
       "    </tr>\n",
       "    <tr>\n",
       "      <th>6</th>\n",
       "      <td>ABBA</td>\n",
       "      <td>Cassandra</td>\n",
       "      <td>/a/abba/cassandra_20002811.html</td>\n",
       "      <td>Down in the street they're all singing and sho...</td>\n",
       "    </tr>\n",
       "    <tr>\n",
       "      <th>7</th>\n",
       "      <td>ABBA</td>\n",
       "      <td>Chiquitita</td>\n",
       "      <td>/a/abba/chiquitita_20002978.html</td>\n",
       "      <td>Chiquitita, tell me what's wrong  \\r\\nYou're e...</td>\n",
       "    </tr>\n",
       "    <tr>\n",
       "      <th>8</th>\n",
       "      <td>ABBA</td>\n",
       "      <td>Crazy World</td>\n",
       "      <td>/a/abba/crazy+world_20003013.html</td>\n",
       "      <td>I was out with the morning sun  \\r\\nCouldn't s...</td>\n",
       "    </tr>\n",
       "    <tr>\n",
       "      <th>9</th>\n",
       "      <td>ABBA</td>\n",
       "      <td>Crying Over You</td>\n",
       "      <td>/a/abba/crying+over+you_20177611.html</td>\n",
       "      <td>I'm waitin' for you baby  \\r\\nI'm sitting all ...</td>\n",
       "    </tr>\n",
       "  </tbody>\n",
       "</table>\n",
       "</div>"
      ],
      "text/plain": [
       "  artist                   song                                        link  \\\n",
       "0   ABBA  Ahe's My Kind Of Girl  /a/abba/ahes+my+kind+of+girl_20598417.html   \n",
       "1   ABBA       Andante, Andante       /a/abba/andante+andante_20002708.html   \n",
       "2   ABBA         As Good As New        /a/abba/as+good+as+new_20003033.html   \n",
       "3   ABBA                   Bang                  /a/abba/bang_20598415.html   \n",
       "4   ABBA       Bang-A-Boomerang      /a/abba/bang+a+boomerang_20002668.html   \n",
       "5   ABBA     Burning My Bridges    /a/abba/burning+my+bridges_20003011.html   \n",
       "6   ABBA              Cassandra             /a/abba/cassandra_20002811.html   \n",
       "7   ABBA             Chiquitita            /a/abba/chiquitita_20002978.html   \n",
       "8   ABBA            Crazy World           /a/abba/crazy+world_20003013.html   \n",
       "9   ABBA        Crying Over You       /a/abba/crying+over+you_20177611.html   \n",
       "\n",
       "                                                text  \n",
       "0  Look at her face, it's a wonderful face  \\r\\nA...  \n",
       "1  Take it easy with me, please  \\r\\nTouch me gen...  \n",
       "2  I'll never know why I had to go  \\r\\nWhy I had...  \n",
       "3  Making somebody happy is a question of give an...  \n",
       "4  Making somebody happy is a question of give an...  \n",
       "5  Well, you hoot and you holler and you make me ...  \n",
       "6  Down in the street they're all singing and sho...  \n",
       "7  Chiquitita, tell me what's wrong  \\r\\nYou're e...  \n",
       "8  I was out with the morning sun  \\r\\nCouldn't s...  \n",
       "9  I'm waitin' for you baby  \\r\\nI'm sitting all ...  "
      ]
     },
     "execution_count": 89,
     "metadata": {},
     "output_type": "execute_result"
    }
   ],
   "source": [
    "df.head(10)"
   ]
  },
  {
   "cell_type": "code",
   "execution_count": 90,
   "id": "02d39663-b098-47c7-a5dc-01ba63007319",
   "metadata": {},
   "outputs": [
    {
     "data": {
      "text/plain": [
       "artist    0\n",
       "song      0\n",
       "link      0\n",
       "text      0\n",
       "dtype: int64"
      ]
     },
     "execution_count": 90,
     "metadata": {},
     "output_type": "execute_result"
    }
   ],
   "source": [
    "df.isnull().sum() #checking for missing data"
   ]
  },
  {
   "cell_type": "code",
   "execution_count": 91,
   "id": "d949782d-4499-4694-bb83-155b6b9b4ea0",
   "metadata": {},
   "outputs": [],
   "source": [
    "df = df.sample(5000).drop(\"link\",axis=1).reset_index(drop=True)"
   ]
  },
  {
   "cell_type": "code",
   "execution_count": 92,
   "id": "9c06ee5a-785a-4c6e-8eef-d9160a0f2e55",
   "metadata": {},
   "outputs": [
    {
     "data": {
      "text/html": [
       "<div>\n",
       "<style scoped>\n",
       "    .dataframe tbody tr th:only-of-type {\n",
       "        vertical-align: middle;\n",
       "    }\n",
       "\n",
       "    .dataframe tbody tr th {\n",
       "        vertical-align: top;\n",
       "    }\n",
       "\n",
       "    .dataframe thead th {\n",
       "        text-align: right;\n",
       "    }\n",
       "</style>\n",
       "<table border=\"1\" class=\"dataframe\">\n",
       "  <thead>\n",
       "    <tr style=\"text-align: right;\">\n",
       "      <th></th>\n",
       "      <th>artist</th>\n",
       "      <th>song</th>\n",
       "      <th>text</th>\n",
       "    </tr>\n",
       "  </thead>\n",
       "  <tbody>\n",
       "    <tr>\n",
       "      <th>0</th>\n",
       "      <td>Imperials</td>\n",
       "      <td>Water Grave</td>\n",
       "      <td>In my house there's been a mercy killing.  \\r\\...</td>\n",
       "    </tr>\n",
       "    <tr>\n",
       "      <th>1</th>\n",
       "      <td>Horrible Histories</td>\n",
       "      <td>Transportation</td>\n",
       "      <td>[Intro]  \\r\\nWith imagination  \\r\\nInspiration...</td>\n",
       "    </tr>\n",
       "    <tr>\n",
       "      <th>2</th>\n",
       "      <td>Nickelback</td>\n",
       "      <td>Next Contestant</td>\n",
       "      <td>I judge by what she's wearing  \\r\\nJust how ma...</td>\n",
       "    </tr>\n",
       "    <tr>\n",
       "      <th>3</th>\n",
       "      <td>Willie Nelson</td>\n",
       "      <td>Honky Tonk Women</td>\n",
       "      <td>Well I met a California girl in Memphis  \\r\\nA...</td>\n",
       "    </tr>\n",
       "    <tr>\n",
       "      <th>4</th>\n",
       "      <td>Dean Martin</td>\n",
       "      <td>I Will</td>\n",
       "      <td>I don't want to be the one to say I'm gonna mi...</td>\n",
       "    </tr>\n",
       "    <tr>\n",
       "      <th>5</th>\n",
       "      <td>Engelbert Humperdinck</td>\n",
       "      <td>You Are The Sunshine Of My Life</td>\n",
       "      <td>You are the sunshine of my life  \\r\\nThat's wh...</td>\n",
       "    </tr>\n",
       "    <tr>\n",
       "      <th>6</th>\n",
       "      <td>Frank Sinatra</td>\n",
       "      <td>Azure-Te (Paris Blue)</td>\n",
       "      <td>Gone and got the blues in Paris,  \\r\\nParis bl...</td>\n",
       "    </tr>\n",
       "    <tr>\n",
       "      <th>7</th>\n",
       "      <td>Isley Brothers</td>\n",
       "      <td>It's A Disco Night (Rock Don't Stop)</td>\n",
       "      <td>Baby, the place is rockin'  \\r\\nIt's a disco n...</td>\n",
       "    </tr>\n",
       "    <tr>\n",
       "      <th>8</th>\n",
       "      <td>Vince Gill</td>\n",
       "      <td>Cowboy Up</td>\n",
       "      <td>I'm puttin' on my favorite cowboy boots  \\r\\nL...</td>\n",
       "    </tr>\n",
       "    <tr>\n",
       "      <th>9</th>\n",
       "      <td>Engelbert Humperdinck</td>\n",
       "      <td>Blue Bayou</td>\n",
       "      <td>I feel so bad, I got a worried mind  \\r\\nI'm s...</td>\n",
       "    </tr>\n",
       "    <tr>\n",
       "      <th>10</th>\n",
       "      <td>Glen Campbell</td>\n",
       "      <td>She Called Me Baby</td>\n",
       "      <td>She called me baby baby all night long used to...</td>\n",
       "    </tr>\n",
       "    <tr>\n",
       "      <th>11</th>\n",
       "      <td>Michael Bolton</td>\n",
       "      <td>Let's Make A Long Story Longer</td>\n",
       "      <td>Everybody's lookin' for a happy ending  \\r\\nBe...</td>\n",
       "    </tr>\n",
       "    <tr>\n",
       "      <th>12</th>\n",
       "      <td>X-Ray Spex</td>\n",
       "      <td>Sophia</td>\n",
       "      <td>Sophia look like a witch  \\r\\nA beautiful witc...</td>\n",
       "    </tr>\n",
       "    <tr>\n",
       "      <th>13</th>\n",
       "      <td>Rolling Stones</td>\n",
       "      <td>2000 Man</td>\n",
       "      <td>Well, my name is a number  \\r\\nA piece of plas...</td>\n",
       "    </tr>\n",
       "    <tr>\n",
       "      <th>14</th>\n",
       "      <td>Doobie Brothers</td>\n",
       "      <td>This Train I'm On</td>\n",
       "      <td>This train I'm on is right on time  \\r\\nIn the...</td>\n",
       "    </tr>\n",
       "  </tbody>\n",
       "</table>\n",
       "</div>"
      ],
      "text/plain": [
       "                   artist                                  song  \\\n",
       "0               Imperials                           Water Grave   \n",
       "1      Horrible Histories                        Transportation   \n",
       "2              Nickelback                       Next Contestant   \n",
       "3           Willie Nelson                      Honky Tonk Women   \n",
       "4             Dean Martin                                I Will   \n",
       "5   Engelbert Humperdinck       You Are The Sunshine Of My Life   \n",
       "6           Frank Sinatra                 Azure-Te (Paris Blue)   \n",
       "7          Isley Brothers  It's A Disco Night (Rock Don't Stop)   \n",
       "8              Vince Gill                             Cowboy Up   \n",
       "9   Engelbert Humperdinck                            Blue Bayou   \n",
       "10          Glen Campbell                    She Called Me Baby   \n",
       "11         Michael Bolton        Let's Make A Long Story Longer   \n",
       "12             X-Ray Spex                                Sophia   \n",
       "13         Rolling Stones                              2000 Man   \n",
       "14        Doobie Brothers                     This Train I'm On   \n",
       "\n",
       "                                                 text  \n",
       "0   In my house there's been a mercy killing.  \\r\\...  \n",
       "1   [Intro]  \\r\\nWith imagination  \\r\\nInspiration...  \n",
       "2   I judge by what she's wearing  \\r\\nJust how ma...  \n",
       "3   Well I met a California girl in Memphis  \\r\\nA...  \n",
       "4   I don't want to be the one to say I'm gonna mi...  \n",
       "5   You are the sunshine of my life  \\r\\nThat's wh...  \n",
       "6   Gone and got the blues in Paris,  \\r\\nParis bl...  \n",
       "7   Baby, the place is rockin'  \\r\\nIt's a disco n...  \n",
       "8   I'm puttin' on my favorite cowboy boots  \\r\\nL...  \n",
       "9   I feel so bad, I got a worried mind  \\r\\nI'm s...  \n",
       "10  She called me baby baby all night long used to...  \n",
       "11  Everybody's lookin' for a happy ending  \\r\\nBe...  \n",
       "12  Sophia look like a witch  \\r\\nA beautiful witc...  \n",
       "13  Well, my name is a number  \\r\\nA piece of plas...  \n",
       "14  This train I'm on is right on time  \\r\\nIn the...  "
      ]
     },
     "execution_count": 92,
     "metadata": {},
     "output_type": "execute_result"
    }
   ],
   "source": [
    "df.head(15)"
   ]
  },
  {
   "cell_type": "code",
   "execution_count": 93,
   "id": "464428ef-2c9a-42f0-a075-f52a39555af3",
   "metadata": {},
   "outputs": [
    {
     "data": {
      "text/plain": [
       "\"Well I met a California girl in Memphis  \\r\\nAnd she tried to take me upstairs for a ride  \\r\\nAnd she had to hold me right across her shoulder  \\r\\nAnd I just can't seem to get her off of my mind  \\r\\nThese honky tonk women gonna give me give give me the honky tonk blues  \\r\\nShe's a honky tonk woman give me give give me the honky tonk blues  \\r\\n  \\r\\nWell I later did the same in New York City  \\r\\nAnd I had to pull out of some kind of a fight  \\r\\nAnd the lady she covered me with roses  \\r\\nShe blew my nose and then she blew my mind  \\r\\nHonky tonk women  \\r\\nAnd she had to hold me  \\r\\nShe's a honky tonk woman  \\r\\nHonky tonk women  \\r\\nShe's a honky tonk woman\\r\\n\\r\\n\""
      ]
     },
     "execution_count": 93,
     "metadata": {},
     "output_type": "execute_result"
    }
   ],
   "source": [
    "df['text'][3]"
   ]
  },
  {
   "cell_type": "markdown",
   "id": "97c494c8-2b51-4071-9edd-3064dc54fc3c",
   "metadata": {},
   "source": [
    "## Cleaning the Text data "
   ]
  },
  {
   "cell_type": "code",
   "execution_count": 94,
   "id": "fcf2eea5-e4e2-4764-8785-048cfb282372",
   "metadata": {},
   "outputs": [],
   "source": [
    "df['text'] = df['text'].str.lower().replace(r'^\\W\\S','').replace(r'\\n',' ', regex=True)"
   ]
  },
  {
   "cell_type": "markdown",
   "id": "d31cfb6a-42c6-429e-9474-88813ca6da20",
   "metadata": {},
   "source": [
    "### Tokenizing the text words and then vectorizing the words to vector and using cosine similarity distance between vectors we are recommending the songs"
   ]
  },
  {
   "cell_type": "code",
   "execution_count": 95,
   "id": "fbd66f2c-aac1-47d5-82e8-5fdecb2f18e7",
   "metadata": {},
   "outputs": [
    {
     "name": "stderr",
     "output_type": "stream",
     "text": [
      "[nltk_data] Downloading package punkt_tab to ./nltk_data...\n",
      "[nltk_data]   Package punkt_tab is already up-to-date!\n"
     ]
    }
   ],
   "source": [
    "import nltk\n",
    "from nltk.stem.porter import PorterStemmer\n",
    "\n",
    "\n",
    "from nltk.tokenize import word_tokenize\n",
    "from nltk.stem import PorterStemmer\n",
    "\n",
    "\n",
    "nltk.download('punkt_tab', download_dir='./nltk_data')\n",
    "nltk.data.path.append('./nltk_data')\n",
    "#Using Stemming to tokenize the words"
   ]
  },
  {
   "cell_type": "code",
   "execution_count": 96,
   "id": "e9693d57-ee95-4872-9276-d36d92f54a8d",
   "metadata": {},
   "outputs": [],
   "source": [
    "stemmer = PorterStemmer()"
   ]
  },
  {
   "cell_type": "code",
   "execution_count": 97,
   "id": "1b44fbd7-aebb-40bc-b857-6bcd656e0daf",
   "metadata": {},
   "outputs": [],
   "source": [
    "def token(txt):\n",
    "    token = nltk.word_tokenize(txt)\n",
    "    stemed =  [stemmer.stem(w) for w in token]\n",
    "    \n",
    "    return \" \".join(stemed)"
   ]
  },
  {
   "cell_type": "code",
   "execution_count": 98,
   "id": "9170eb95-b680-4d7e-b2f8-70f129b40499",
   "metadata": {},
   "outputs": [
    {
     "data": {
      "text/plain": [
       "'i am listen to music'"
      ]
     },
     "execution_count": 98,
     "metadata": {},
     "output_type": "execute_result"
    }
   ],
   "source": [
    "token(\"i am listening to music\")"
   ]
  },
  {
   "cell_type": "code",
   "execution_count": 99,
   "id": "8e4fec06-5532-471d-a051-b7a366b27abb",
   "metadata": {},
   "outputs": [
    {
     "data": {
      "text/plain": [
       "0       in my hous there 's been a merci kill . the ma...\n",
       "1       [ intro ] with imagin inspir innov and perspir...\n",
       "2       i judg by what she 's wear just how mani head ...\n",
       "3       well i met a california girl in memphi and she...\n",
       "4       i do n't want to be the one to say i 'm gon na...\n",
       "                              ...                        \n",
       "4995    at first flash of eden , we race down to the s...\n",
       "4996    oh , you look so tire mouth slack and wide ill...\n",
       "4997    from the backdoor of your life you swept me ou...\n",
       "4998    do n't kiss my lip and say good-by , it make m...\n",
       "4999    ( speech : ) ok here we go , for thi we got a ...\n",
       "Name: text, Length: 5000, dtype: object"
      ]
     },
     "execution_count": 99,
     "metadata": {},
     "output_type": "execute_result"
    }
   ],
   "source": [
    "df['text'].apply(lambda x: token(x))"
   ]
  },
  {
   "cell_type": "code",
   "execution_count": 100,
   "id": "5d7b75d2-294c-4993-8247-dcc5cce17188",
   "metadata": {},
   "outputs": [],
   "source": [
    "from sklearn.feature_extraction.text import TfidfVectorizer\n",
    "from sklearn.metrics.pairwise import cosine_similarity\n",
    "\n",
    "#for vectorization - TF_IDF"
   ]
  },
  {
   "cell_type": "code",
   "execution_count": 101,
   "id": "b4c468c1-aaad-4911-966d-abf69802c60c",
   "metadata": {},
   "outputs": [],
   "source": [
    "tfidf = TfidfVectorizer(analyzer='word',stop_words='english')"
   ]
  },
  {
   "cell_type": "code",
   "execution_count": 102,
   "id": "6f1b0515-265e-4afe-8359-eb25885c6ad0",
   "metadata": {},
   "outputs": [],
   "source": [
    "matrix = tfidf.fit_transform(df['text'])"
   ]
  },
  {
   "cell_type": "code",
   "execution_count": 103,
   "id": "bd4afc73-9507-4f15-8870-4de53eba29f7",
   "metadata": {},
   "outputs": [],
   "source": [
    "similarity = cosine_similarity(matrix)"
   ]
  },
  {
   "cell_type": "code",
   "execution_count": 104,
   "id": "f881cc69-deaf-47a7-a8c9-35740ab16417",
   "metadata": {},
   "outputs": [
    {
     "data": {
      "text/plain": [
       "array([0.02148391, 0.00403812, 0.02869569, ..., 0.02013428, 0.02487519,\n",
       "       1.        ])"
      ]
     },
     "execution_count": 104,
     "metadata": {},
     "output_type": "execute_result"
    }
   ],
   "source": [
    "similarity[4999]"
   ]
  },
  {
   "cell_type": "code",
   "execution_count": 105,
   "id": "74d0fa19-770b-4219-b362-f55ddc901d28",
   "metadata": {},
   "outputs": [
    {
     "data": {
      "text/html": [
       "<div>\n",
       "<style scoped>\n",
       "    .dataframe tbody tr th:only-of-type {\n",
       "        vertical-align: middle;\n",
       "    }\n",
       "\n",
       "    .dataframe tbody tr th {\n",
       "        vertical-align: top;\n",
       "    }\n",
       "\n",
       "    .dataframe thead th {\n",
       "        text-align: right;\n",
       "    }\n",
       "</style>\n",
       "<table border=\"1\" class=\"dataframe\">\n",
       "  <thead>\n",
       "    <tr style=\"text-align: right;\">\n",
       "      <th></th>\n",
       "      <th>artist</th>\n",
       "      <th>song</th>\n",
       "      <th>text</th>\n",
       "    </tr>\n",
       "  </thead>\n",
       "  <tbody>\n",
       "    <tr>\n",
       "      <th>0</th>\n",
       "      <td>Imperials</td>\n",
       "      <td>Water Grave</td>\n",
       "      <td>in my house there's been a mercy killing.  \\r ...</td>\n",
       "    </tr>\n",
       "    <tr>\n",
       "      <th>1</th>\n",
       "      <td>Horrible Histories</td>\n",
       "      <td>Transportation</td>\n",
       "      <td>[intro]  \\r with imagination  \\r inspiration  ...</td>\n",
       "    </tr>\n",
       "    <tr>\n",
       "      <th>2</th>\n",
       "      <td>Nickelback</td>\n",
       "      <td>Next Contestant</td>\n",
       "      <td>i judge by what she's wearing  \\r just how man...</td>\n",
       "    </tr>\n",
       "    <tr>\n",
       "      <th>3</th>\n",
       "      <td>Willie Nelson</td>\n",
       "      <td>Honky Tonk Women</td>\n",
       "      <td>well i met a california girl in memphis  \\r an...</td>\n",
       "    </tr>\n",
       "    <tr>\n",
       "      <th>4</th>\n",
       "      <td>Dean Martin</td>\n",
       "      <td>I Will</td>\n",
       "      <td>i don't want to be the one to say i'm gonna mi...</td>\n",
       "    </tr>\n",
       "    <tr>\n",
       "      <th>5</th>\n",
       "      <td>Engelbert Humperdinck</td>\n",
       "      <td>You Are The Sunshine Of My Life</td>\n",
       "      <td>you are the sunshine of my life  \\r that's why...</td>\n",
       "    </tr>\n",
       "    <tr>\n",
       "      <th>6</th>\n",
       "      <td>Frank Sinatra</td>\n",
       "      <td>Azure-Te (Paris Blue)</td>\n",
       "      <td>gone and got the blues in paris,  \\r paris blu...</td>\n",
       "    </tr>\n",
       "    <tr>\n",
       "      <th>7</th>\n",
       "      <td>Isley Brothers</td>\n",
       "      <td>It's A Disco Night (Rock Don't Stop)</td>\n",
       "      <td>baby, the place is rockin'  \\r it's a disco ni...</td>\n",
       "    </tr>\n",
       "    <tr>\n",
       "      <th>8</th>\n",
       "      <td>Vince Gill</td>\n",
       "      <td>Cowboy Up</td>\n",
       "      <td>i'm puttin' on my favorite cowboy boots  \\r li...</td>\n",
       "    </tr>\n",
       "    <tr>\n",
       "      <th>9</th>\n",
       "      <td>Engelbert Humperdinck</td>\n",
       "      <td>Blue Bayou</td>\n",
       "      <td>i feel so bad, i got a worried mind  \\r i'm so...</td>\n",
       "    </tr>\n",
       "  </tbody>\n",
       "</table>\n",
       "</div>"
      ],
      "text/plain": [
       "                  artist                                  song  \\\n",
       "0              Imperials                           Water Grave   \n",
       "1     Horrible Histories                        Transportation   \n",
       "2             Nickelback                       Next Contestant   \n",
       "3          Willie Nelson                      Honky Tonk Women   \n",
       "4            Dean Martin                                I Will   \n",
       "5  Engelbert Humperdinck       You Are The Sunshine Of My Life   \n",
       "6          Frank Sinatra                 Azure-Te (Paris Blue)   \n",
       "7         Isley Brothers  It's A Disco Night (Rock Don't Stop)   \n",
       "8             Vince Gill                             Cowboy Up   \n",
       "9  Engelbert Humperdinck                            Blue Bayou   \n",
       "\n",
       "                                                text  \n",
       "0  in my house there's been a mercy killing.  \\r ...  \n",
       "1  [intro]  \\r with imagination  \\r inspiration  ...  \n",
       "2  i judge by what she's wearing  \\r just how man...  \n",
       "3  well i met a california girl in memphis  \\r an...  \n",
       "4  i don't want to be the one to say i'm gonna mi...  \n",
       "5  you are the sunshine of my life  \\r that's why...  \n",
       "6  gone and got the blues in paris,  \\r paris blu...  \n",
       "7  baby, the place is rockin'  \\r it's a disco ni...  \n",
       "8  i'm puttin' on my favorite cowboy boots  \\r li...  \n",
       "9  i feel so bad, i got a worried mind  \\r i'm so...  "
      ]
     },
     "execution_count": 105,
     "metadata": {},
     "output_type": "execute_result"
    }
   ],
   "source": [
    "df.head(10)"
   ]
  },
  {
   "cell_type": "markdown",
   "id": "65834058-9af3-4976-8594-98a13e8fdfdb",
   "metadata": {},
   "source": [
    "# Recommendation funcion \n"
   ]
  },
  {
   "cell_type": "code",
   "execution_count": null,
   "id": "818168ec-168a-4cc2-8feb-0ae436a108a8",
   "metadata": {},
   "outputs": [],
   "source": [
    "def recommender(song_name):\n",
    "    idx = df[df['song'] == song_name].index[0]\n",
    "    distance = sorted(list(enumerate(similarity[idx])), reverse=True, key =lambda x: x[1])\n",
    "    song = []\n",
    "    for sid in distance[1:5]:\n",
    "        song.append(df.iloc[sid[0]].song)\n",
    "\n",
    "    return song"
   ]
  },
  {
   "cell_type": "code",
   "execution_count": 109,
   "id": "c3dbb076-6fff-4ee1-90dc-2f2603404bf9",
   "metadata": {},
   "outputs": [
    {
     "data": {
      "text/plain": [
       "['Hold On', 'Dance', 'These Days', \"I Don't Want To Know If You're Lonely\"]"
      ]
     },
     "execution_count": 109,
     "metadata": {},
     "output_type": "execute_result"
    }
   ],
   "source": [
    "recommender(\"Transportation\")"
   ]
  },
  {
   "cell_type": "markdown",
   "id": "28e7a8ec-d0d9-44f5-baa1-9bd738064d5d",
   "metadata": {},
   "source": [
    "## dumping in a file"
   ]
  },
  {
   "cell_type": "code",
   "execution_count": 110,
   "id": "00159fa5-6af5-4afb-b68b-ec20f23090e5",
   "metadata": {},
   "outputs": [],
   "source": [
    "import pickle"
   ]
  },
  {
   "cell_type": "code",
   "execution_count": 111,
   "id": "49e042d2-5a6d-441a-b171-4239ac8a9a1d",
   "metadata": {},
   "outputs": [],
   "source": [
    "pickle.dump(similarity, open(\"similarity\",\"wb\"))"
   ]
  },
  {
   "cell_type": "code",
   "execution_count": 112,
   "id": "f3596c6e-92d7-437a-aef2-ffe0c26ee676",
   "metadata": {},
   "outputs": [],
   "source": [
    "pickle.dump(df, open(\"dataframe\",\"wb\"))"
   ]
  },
  {
   "cell_type": "code",
   "execution_count": null,
   "id": "86b5970c-61a2-4346-8b43-30c7e88d6c7c",
   "metadata": {},
   "outputs": [],
   "source": []
  }
 ],
 "metadata": {
  "kernelspec": {
   "display_name": "Python 3 (ipykernel)",
   "language": "python",
   "name": "python3"
  },
  "language_info": {
   "codemirror_mode": {
    "name": "ipython",
    "version": 3
   },
   "file_extension": ".py",
   "mimetype": "text/x-python",
   "name": "python",
   "nbconvert_exporter": "python",
   "pygments_lexer": "ipython3",
   "version": "3.12.6"
  }
 },
 "nbformat": 4,
 "nbformat_minor": 5
}
